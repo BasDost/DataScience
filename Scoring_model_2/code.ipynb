{
 "cells": [
  {
   "cell_type": "code",
   "execution_count": 1,
   "metadata": {
    "collapsed": true
   },
   "outputs": [],
   "source": [
    "import pandas as pd\n",
    "import numpy as np\n",
    "import datetime"
   ]
  },
  {
   "cell_type": "markdown",
   "metadata": {},
   "source": [
    "# Downloading data"
   ]
  },
  {
   "cell_type": "code",
   "execution_count": 2,
   "metadata": {
    "collapsed": true
   },
   "outputs": [],
   "source": [
    "data = pd.ExcelFile(\"risk_tz.xlsx\")"
   ]
  },
  {
   "cell_type": "code",
   "execution_count": 3,
   "metadata": {},
   "outputs": [
    {
     "data": {
      "text/plain": [
       "['Задание', '1_data jan-may', '2_Data jun-jul Fcst']"
      ]
     },
     "execution_count": 3,
     "metadata": {},
     "output_type": "execute_result"
    }
   ],
   "source": [
    "data.sheet_names"
   ]
  },
  {
   "cell_type": "code",
   "execution_count": 4,
   "metadata": {
    "collapsed": true
   },
   "outputs": [],
   "source": [
    "train_data = data.parse('1_data jan-may')"
   ]
  },
  {
   "cell_type": "code",
   "execution_count": 5,
   "metadata": {
    "collapsed": true
   },
   "outputs": [],
   "source": [
    "test_data = data.parse('2_Data jun-jul Fcst')"
   ]
  },
  {
   "cell_type": "markdown",
   "metadata": {},
   "source": [
    "# Preprocessing of data"
   ]
  },
  {
   "cell_type": "markdown",
   "metadata": {},
   "source": [
    "Removing skips and incorrect dates"
   ]
  },
  {
   "cell_type": "code",
   "execution_count": 6,
   "metadata": {
    "collapsed": true
   },
   "outputs": [],
   "source": [
    "train_data['Дата начала работы на текущей должности'] = train_data['Дата начала работы на текущей должности'].fillna(\n",
    "    train_data['Дата начала'])\n",
    "test_data['Дата начала работы на текущей должности'] = test_data['Дата начала работы на текущей должности'].fillna(\n",
    "    test_data['Дата начала'])\n",
    "\n",
    "def func_year(date):\n",
    "    return int(date.split('.')[2])\n",
    "train_data = train_data[train_data['Дата начала работы на текущей должности'].apply(func_year).between(1940, 2014)]\n",
    "test_data = test_data[test_data['Дата начала работы на текущей должности'].apply(func_year).between(1940, 2014)]"
   ]
  },
  {
   "cell_type": "markdown",
   "metadata": {},
   "source": [
    "Converting columns that contain a date into a date type from object"
   ]
  },
  {
   "cell_type": "code",
   "execution_count": 7,
   "metadata": {
    "collapsed": true
   },
   "outputs": [],
   "source": [
    "date_column = ['Дата начала', 'Дата окончания', 'Дата окончания сПролонгацией', 'Дата рождения',\n",
    "               'Дата окончания начислений', 'Дата окончательной оплаты', 'Дата начала работы на текущей должности']\n",
    "\n",
    "for column in date_column:\n",
    "    train_data[column] = pd.to_datetime(train_data[column], dayfirst=True)\n",
    "    test_data[column] = pd.to_datetime(test_data[column], dayfirst=True)"
   ]
  },
  {
   "cell_type": "markdown",
   "metadata": {},
   "source": [
    "Removing gaps in numeric columns"
   ]
  },
  {
   "cell_type": "code",
   "execution_count": 8,
   "metadata": {
    "collapsed": true
   },
   "outputs": [],
   "source": [
    "number_columns = ['Количество детей', 'Количество иждивенцев', 'Номер клиента','Сумма займа', 'Количество детей',                                                            \n",
    "                'Количество иждивенцев', 'Сумма дохода заемщика', 'Оплаты по процентам', 'Оплаты по телу', 'Долг всего',\n",
    "                'Долг по телу (на дату отчета)', 'Долг по процентам (на дату отчета)', 'Просрочка по телу (на дату отчета)',\n",
    "                'Просрочка по процентам (на дату отчета)', 'К-во дней просрочки по телу (на дату отчета)', 'Длительность кредита',   \n",
    "                'макс размер тела, которое было в просрочке 30+ дней просрочки', 'Начисленно по процентам',             \n",
    "                'макс к-во дней просрочки по телу (исторически за все время жизни кредита)', 'Долг всего просроченно']    \n",
    "train_data[number_columns] = train_data[number_columns].fillna(0)\n",
    "test_data[number_columns] = test_data[number_columns].fillna(0)"
   ]
  },
  {
   "cell_type": "markdown",
   "metadata": {},
   "source": [
    "Removing gaps in columns with categorical data"
   ]
  },
  {
   "cell_type": "code",
   "execution_count": 9,
   "metadata": {
    "collapsed": true
   },
   "outputs": [],
   "source": [
    "cat_columns = ['Договор номер', 'Пол', 'Подразделение', 'Город выдачи', 'Область выдачи', 'Семейное положение', 'Этап контроля', \n",
    "            'Занятость не трудоустроен','Занятость трудоустроен не официально', 'Занятость трудоустроен официально',\n",
    "            'Занятость пенсионер', 'Занятость студент', 'Должность', 'Сфера деятельности', 'Периодичность дохода', 'Погашен']\n",
    "train_data[cat_columns] = train_data[cat_columns].fillna('Нет').applymap(str)\n",
    "test_data[cat_columns] = test_data[cat_columns].fillna('Нет').applymap(str)"
   ]
  },
  {
   "cell_type": "markdown",
   "metadata": {},
   "source": [
    "Finding the age, length of service and duration of prolongation"
   ]
  },
  {
   "cell_type": "code",
   "execution_count": 10,
   "metadata": {
    "collapsed": true
   },
   "outputs": [],
   "source": [
    "train_data['Возраст'] = train_data['Дата начала'] - train_data['Дата рождения']\n",
    "train_data['Стаж работы'] = train_data['Дата начала'] - train_data['Дата начала работы на текущей должности']\n",
    "\n",
    "test_data['Возраст'] = test_data['Дата начала'] - test_data['Дата рождения']\n",
    "test_data['Стаж работы'] = test_data['Дата начала'] - test_data['Дата начала работы на текущей должности']\n",
    "\n",
    "date_int_columns = ['Стаж работы', 'Возраст']\n",
    "\n",
    "for column in date_int_columns:\n",
    "    train_data[column] = train_data[column].dt.days\n",
    "    test_data[column] = test_data[column].dt.days"
   ]
  },
  {
   "cell_type": "code",
   "execution_count": 11,
   "metadata": {
    "collapsed": true
   },
   "outputs": [],
   "source": [
    "train_data['Пролонгация'] = train_data['Дата окончания сПролонгацией'] - train_data['Дата начала'] \n",
    "train_data['Пролонгация'] = train_data['Пролонгация'].dt.days + 1"
   ]
  },
  {
   "cell_type": "markdown",
   "metadata": {},
   "source": [
    "Removing columns with a date (except for the initial one), since they are not in the test dataset"
   ]
  },
  {
   "cell_type": "code",
   "execution_count": 12,
   "metadata": {},
   "outputs": [
    {
     "name": "stderr",
     "output_type": "stream",
     "text": [
      "C:\\ProgramData\\Anaconda3\\lib\\site-packages\\ipykernel_launcher.py:1: SettingWithCopyWarning: \n",
      "A value is trying to be set on a copy of a slice from a DataFrame\n",
      "\n",
      "See the caveats in the documentation: http://pandas.pydata.org/pandas-docs/stable/indexing.html#indexing-view-versus-copy\n",
      "  \"\"\"Entry point for launching an IPython kernel.\n",
      "C:\\ProgramData\\Anaconda3\\lib\\site-packages\\ipykernel_launcher.py:2: SettingWithCopyWarning: \n",
      "A value is trying to be set on a copy of a slice from a DataFrame\n",
      "\n",
      "See the caveats in the documentation: http://pandas.pydata.org/pandas-docs/stable/indexing.html#indexing-view-versus-copy\n",
      "  \n"
     ]
    }
   ],
   "source": [
    "train_data['Стаж работы'][train_data['Стаж работы'] < 0]= 0\n",
    "test_data['Стаж работы'][test_data['Стаж работы'] < 0]= 0\n",
    "\n",
    "train_data.drop(date_column[1:], inplace = True, axis = 1)\n",
    "test_data.drop(date_column[1:], inplace = True, axis = 1)"
   ]
  },
  {
   "cell_type": "code",
   "execution_count": 13,
   "metadata": {},
   "outputs": [
    {
     "name": "stdout",
     "output_type": "stream",
     "text": [
      "<class 'pandas.core.frame.DataFrame'>\n",
      "Int64Index: 13346 entries, 0 to 13386\n",
      "Data columns (total 37 columns):\n",
      "Договор номер                                                                13346 non-null object\n",
      "Номер клиента                                                                13346 non-null int64\n",
      "Дата начала                                                                  13346 non-null datetime64[ns]\n",
      "Длительность кредита                                                         13346 non-null float64\n",
      "Сумма займа                                                                  13346 non-null int64\n",
      "Пол                                                                          13346 non-null object\n",
      "Подразделение                                                                13346 non-null object\n",
      "Город выдачи                                                                 13346 non-null object\n",
      "Область выдачи                                                               13346 non-null object\n",
      "Семейное положение                                                           13346 non-null object\n",
      "Количество детей                                                             13346 non-null float64\n",
      "Количество иждивенцев                                                        13346 non-null float64\n",
      "Занятость не трудоустроен                                                    13346 non-null object\n",
      "Занятость трудоустроен не официально                                         13346 non-null object\n",
      "Занятость трудоустроен официально                                            13346 non-null object\n",
      "Занятость пенсионер                                                          13346 non-null object\n",
      "Занятость студент                                                            13346 non-null object\n",
      "Должность                                                                    13346 non-null object\n",
      "Сфера деятельности                                                           13346 non-null object\n",
      "Периодичность дохода                                                         13346 non-null object\n",
      "Сумма дохода заемщика                                                        13346 non-null float64\n",
      "Погашен                                                                      13346 non-null object\n",
      "Оплаты по процентам                                                          13346 non-null float64\n",
      "Оплаты по телу                                                               13346 non-null float64\n",
      "Начисленно по процентам                                                      13346 non-null float64\n",
      "Долг по телу (на дату отчета)                                                13346 non-null float64\n",
      "Долг по процентам (на дату отчета)                                           13346 non-null float64\n",
      "Просрочка по телу (на дату отчета)                                           13346 non-null float64\n",
      "Просрочка по процентам (на дату отчета)                                      13346 non-null float64\n",
      "К-во дней просрочки по телу (на дату отчета)                                 13346 non-null float64\n",
      "макс размер тела, которое было в просрочке 30+ дней просрочки                13346 non-null float64\n",
      "макс к-во дней просрочки по телу (исторически за все время жизни кредита)    13346 non-null float64\n",
      "Этап контроля                                                                13346 non-null object\n",
      "Долг всего                                                                   13346 non-null float64\n",
      "Долг всего просроченно                                                       13346 non-null float64\n",
      "Возраст                                                                      13346 non-null int64\n",
      "Стаж работы                                                                  13346 non-null int64\n",
      "dtypes: datetime64[ns](1), float64(16), int64(4), object(16)\n",
      "memory usage: 4.5+ MB\n"
     ]
    }
   ],
   "source": [
    "test_data.info()"
   ]
  },
  {
   "cell_type": "markdown",
   "metadata": {},
   "source": [
    "Counting the number of unique values among categorical attributes"
   ]
  },
  {
   "cell_type": "code",
   "execution_count": 14,
   "metadata": {
    "collapsed": true
   },
   "outputs": [],
   "source": [
    "position_unique = train_data['Должность'].unique()\n",
    "activity_unique = train_data['Сфера деятельности'].unique()\n",
    "subdivision_unique = train_data['Подразделение'].unique()\n",
    "city_unique = train_data['Город выдачи'].unique()\n",
    "region_unique = train_data['Область выдачи'].unique()\n",
    "sex_unique = train_data['Пол'].unique()\n",
    "marital_unique = train_data['Семейное положение'].unique()\n",
    "periodicity_unique = train_data['Периодичность дохода'].unique()\n",
    "extinguished_unique = train_data['Погашен'].unique()\n",
    "control_unique = train_data['Этап контроля'].unique()"
   ]
  },
  {
   "cell_type": "code",
   "execution_count": 15,
   "metadata": {
    "collapsed": true
   },
   "outputs": [],
   "source": [
    "cat_unique = {'Должность': len(position_unique), 'Сфера деятельности': len(activity_unique), 'Подразделение': len(subdivision_unique),\n",
    "    'Город выдачи': len(city_unique), 'Область выдачи': len(region_unique), 'Пол': len(sex_unique), 'Этап контроля': len(control_unique),\n",
    "    'Семейное положение': len(marital_unique), 'Периодичность дохода': len(periodicity_unique), 'Погашен': len(extinguished_unique)}"
   ]
  },
  {
   "cell_type": "code",
   "execution_count": 16,
   "metadata": {},
   "outputs": [
    {
     "data": {
      "text/plain": [
       "{'Город выдачи': 38,\n",
       " 'Должность': 1867,\n",
       " 'Область выдачи': 10,\n",
       " 'Периодичность дохода': 4,\n",
       " 'Погашен': 2,\n",
       " 'Подразделение': 78,\n",
       " 'Пол': 2,\n",
       " 'Семейное положение': 4,\n",
       " 'Сфера деятельности': 772,\n",
       " 'Этап контроля': 11}"
      ]
     },
     "execution_count": 16,
     "metadata": {},
     "output_type": "execute_result"
    }
   ],
   "source": [
    "cat_unique"
   ]
  },
  {
   "cell_type": "markdown",
   "metadata": {},
   "source": [
    "In the variables: 'Должность' and 'Сфера деятельности' too many unique values, therefore it is possible to retrain. As a result of further testing, the variables -  'Этап контроля' and  'Подразделение' did not affect the quality of the algorithms, and in some cases, worsened the quality"
   ]
  },
  {
   "cell_type": "markdown",
   "metadata": {},
   "source": [
    "Creation of new clients based on the variables of the training dataset"
   ]
  },
  {
   "cell_type": "code",
   "execution_count": 17,
   "metadata": {
    "collapsed": true
   },
   "outputs": [],
   "source": [
    "income_person_dict = {'общая сумма тела': 0, 'общий доход от процентов': 0, 'количество кредитов': 0, \n",
    "                      'максимальный размер тела в просрочке': 0}\n",
    "income_dict = {person_id: {'общая сумма тела': 0, 'общий доход от процентов': 0, 'количество кредитов': 0, \n",
    "                      'максимальный размер тела в просрочке': 0} for person_id in train_data['Номер клиента'].unique()}"
   ]
  },
  {
   "cell_type": "code",
   "execution_count": 18,
   "metadata": {
    "collapsed": true
   },
   "outputs": [],
   "source": [
    "history_person_dict = {'1-29DayLate': 0, '30-59DayLate': 0, '60-89DayLate': 0, 'over89DayLate': 0, 'maxLate': 0}\n",
    "history_dict = {person_id: {'1-29DayLate': 0, '30-59DayLate': 0, '60-89DayLate': 0, 'over89DayLate': 0, 'maxLate': 0} for person_id in train_data['Номер клиента'].unique()}"
   ]
  },
  {
   "cell_type": "code",
   "execution_count": 19,
   "metadata": {
    "collapsed": true
   },
   "outputs": [],
   "source": [
    "for income in income_person_dict.keys():\n",
    "    train_data[income] = 0\n",
    "    test_data[income] = 0\n",
    "for history in history_person_dict.keys():\n",
    "    train_data[history] = 0\n",
    "    test_data[history] = 0"
   ]
  },
  {
   "cell_type": "code",
   "execution_count": 20,
   "metadata": {
    "collapsed": true
   },
   "outputs": [],
   "source": [
    "train_data.sort_values(by=['Дата начала', 'Номер клиента'], inplace = True)\n",
    "train_data.reset_index(drop=True, inplace = True)\n",
    "test_data.reset_index(drop=True, inplace = True)"
   ]
  },
  {
   "cell_type": "code",
   "execution_count": 21,
   "metadata": {},
   "outputs": [
    {
     "name": "stdout",
     "output_type": "stream",
     "text": [
      "Wall time: 2min 2s\n"
     ]
    }
   ],
   "source": [
    "%%time\n",
    "#INCOME\n",
    "for index in range(train_data.shape[0]):\n",
    "    client_id = train_data.loc[index, 'Номер клиента']\n",
    "    if client_id in income_dict.keys():\n",
    "        for income in income_person_dict.keys():\n",
    "            train_data.loc[index, income] = income_dict[client_id][income]\n",
    "        income_dict[client_id]['максимальный размер тела в просрочке'] = train_data.loc[index,\n",
    "                                                        'макс размер тела, которое было в просрочке 30+ дней просрочки']\n",
    "        income_dict[client_id]['общая сумма тела'] += train_data.loc[index, 'Сумма займа']\n",
    "        income_dict[client_id]['общий доход от процентов'] += train_data.loc[index, 'Оплаты по процентам']\n",
    "        income_dict[client_id]['количество кредитов'] += 1"
   ]
  },
  {
   "cell_type": "code",
   "execution_count": 22,
   "metadata": {
    "collapsed": true
   },
   "outputs": [],
   "source": [
    "#INCOME test\n",
    "for index in range(test_data.shape[0]):\n",
    "    client_id = test_data.loc[index, 'Номер клиента']\n",
    "    if client_id in income_dict.keys():\n",
    "        for income in income_person_dict.keys():\n",
    "            test_data.loc[index, income] = income_dict[client_id][income]"
   ]
  },
  {
   "cell_type": "code",
   "execution_count": 23,
   "metadata": {},
   "outputs": [
    {
     "name": "stdout",
     "output_type": "stream",
     "text": [
      "Wall time: 2min 26s\n"
     ]
    }
   ],
   "source": [
    "%%time\n",
    "#HISTORY\n",
    "for index in range(train_data.shape[0]):\n",
    "    client_id = train_data.loc[index, 'Номер клиента']\n",
    "    if client_id in history_dict.keys():\n",
    "        for history in history_person_dict.keys():\n",
    "            train_data.loc[index, history] = history_dict[client_id][history]\n",
    "        history_dict[client_id]['maxLate'] = train_data.loc[index, 'макс к-во дней просрочки по телу (исторически за все время жизни кредита)']\n",
    "        \n",
    "        if train_data.loc[index, 'К-во дней просрочки по телу (на дату отчета)'] < 1:\n",
    "            pass\n",
    "        elif train_data.loc[index, 'К-во дней просрочки по телу (на дату отчета)'] < 30:\n",
    "            history_dict[client_id]['1-29DayLate'] += 1\n",
    "        elif train_data.loc[index, 'К-во дней просрочки по телу (на дату отчета)'] < 60:    \n",
    "            history_dict[client_id]['30-59DayLate'] += 1\n",
    "        elif train_data.loc[index, 'К-во дней просрочки по телу (на дату отчета)'] < 90:    \n",
    "            history_dict[client_id]['60-89DayLate'] += 1\n",
    "        else:\n",
    "            history_dict[client_id]['over89DayLate'] += 1"
   ]
  },
  {
   "cell_type": "code",
   "execution_count": 24,
   "metadata": {
    "collapsed": true
   },
   "outputs": [],
   "source": [
    "#HISTORY tets\n",
    "for index in range(test_data.shape[0]):\n",
    "    client_id = test_data.loc[index, 'Номер клиента']\n",
    "    if client_id in history_dict.keys():\n",
    "        for history in history_person_dict.keys():\n",
    "            test_data.loc[index, history] = history_dict[client_id][history]"
   ]
  },
  {
   "cell_type": "markdown",
   "metadata": {},
   "source": [
    "Allocation of people from the initial data base that repaid the loan, and creating a target variable y_delay_train for them, where 0 - the loan was repaid in time, 1- was overdue, 2 - the rollover date is longer than the original loan end date. Also for these three categories was found the average amount of interest (mean_pay, mean_pay_pr, mean_percents) paid by them during the loan"
   ]
  },
  {
   "cell_type": "code",
   "execution_count": 25,
   "metadata": {
    "collapsed": true
   },
   "outputs": [],
   "source": [
    "train_good = train_data[train_data['Погашен'] == 'Да']\n",
    "y_delay_train = [1 if i > 0 else 0 for i in train_good['макс к-во дней просрочки по телу (исторически за все время жизни кредита)']]\n",
    "train_good_fine = train_good[train_good['макс к-во дней просрочки по телу (исторически за все время жизни кредита)'] > 0]\n",
    "mean_pay_df = train_good_fine['Оплаты по процентам'] / train_good_fine['Сумма займа']\n",
    "mean_pay = mean_pay_df.mean()\n",
    "\n",
    "dif_date = train_good['Пролонгация'] - train_good['Длительность кредита']\n",
    "dif_date = np.asarray(dif_date)\n",
    "y_delay_pr = [1 if (dif_date[i] > 0 and y_delay_train[i] == 0) else 0 for i in range(len(y_delay_train))]\n",
    "train_good_fine_pr = train_good[np.logical_and(train_good['макс к-во дней просрочки по телу (исторически за все время жизни кредита)'] == 0,\n",
    "                            (train_good['Пролонгация'] - train_good['Длительность кредита']) > 0)]\n",
    "mean_pay_pr_df = train_good_fine_pr['Оплаты по процентам'] / train_good_fine_pr['Сумма займа']\n",
    "mean_pay_pr = mean_pay_pr_df.mean()\n",
    "\n",
    "train_good_not_fine = train_good[np.logical_and(train_good['макс к-во дней просрочки по телу (исторически за все время жизни кредита)'] == 0,\n",
    "                            (train_good['Пролонгация'] - train_good['Длительность кредита']) == 0)]\n",
    "mean_percents_df = train_good_not_fine['Оплаты по процентам'] / train_good_not_fine['Сумма займа']\n",
    "mean_percents = mean_percents_df.mean()"
   ]
  },
  {
   "cell_type": "code",
   "execution_count": 26,
   "metadata": {
    "collapsed": true
   },
   "outputs": [],
   "source": [
    "for i in range(len(y_delay_pr)):\n",
    "    if y_delay_pr[i] > 0:\n",
    "        y_delay_train[i] = 2"
   ]
  },
  {
   "cell_type": "markdown",
   "metadata": {},
   "source": [
    "Removing unnecessary features"
   ]
  },
  {
   "cell_type": "code",
   "execution_count": 27,
   "metadata": {},
   "outputs": [
    {
     "name": "stderr",
     "output_type": "stream",
     "text": [
      "C:\\ProgramData\\Anaconda3\\lib\\site-packages\\ipykernel_launcher.py:2: SettingWithCopyWarning: \n",
      "A value is trying to be set on a copy of a slice from a DataFrame\n",
      "\n",
      "See the caveats in the documentation: http://pandas.pydata.org/pandas-docs/stable/indexing.html#indexing-view-versus-copy\n",
      "  \n"
     ]
    }
   ],
   "source": [
    "train_data.drop('Пролонгация', axis = 1, inplace = True)\n",
    "train_good.drop('Пролонгация', axis = 1, inplace = True)\n",
    "drop_columns = ['Договор номер', 'Дата начала', 'Длительность кредита', 'Должность', 'Сфера деятельности',\n",
    "       'Оплаты по телу', 'Начисленно по процентам','Долг по телу (на дату отчета)', \n",
    "       'Долг по процентам (на дату отчета)', 'Просрочка по телу (на дату отчета)', 'Просрочка по процентам (на дату отчета)',\n",
    "       'К-во дней просрочки по телу (на дату отчета)','Долг всего', 'Долг всего просроченно', \n",
    "       'Этап контроля', 'макс размер тела, которое было в просрочке 30+ дней просрочки',\n",
    "       'макс к-во дней просрочки по телу (исторически за все время жизни кредита)']\n",
    "\n",
    "train = train_data.drop(drop_columns, axis = 1)\n",
    "train_good = train_good.drop(drop_columns, axis = 1)\n",
    "test = test_data.drop(drop_columns, axis = 1)"
   ]
  },
  {
   "cell_type": "code",
   "execution_count": 28,
   "metadata": {
    "collapsed": true
   },
   "outputs": [],
   "source": [
    "y = train['Погашен']\n",
    "loan_amount = train['Сумма займа']\n",
    "X = train.drop(['Погашен', 'Оплаты по процентам', 'Подразделение',  'Номер клиента'], axis = 1)\n",
    "X_good = train_good.drop(['Погашен', 'Оплаты по процентам', 'Подразделение',  'Номер клиента'], axis = 1)\n",
    "test = test.drop(['Погашен', 'Оплаты по процентам', 'Подразделение', 'Номер клиента'], axis = 1)"
   ]
  },
  {
   "cell_type": "markdown",
   "metadata": {},
   "source": [
    "Allocation of categorical features cat_train"
   ]
  },
  {
   "cell_type": "code",
   "execution_count": 29,
   "metadata": {
    "collapsed": true
   },
   "outputs": [],
   "source": [
    "cat_train = ['Пол', 'Семейное положение','Город выдачи', 'Область выдачи',\n",
    "       'Занятость не трудоустроен', 'Занятость трудоустроен не официально','Занятость трудоустроен официально', \n",
    "       'Занятость пенсионер','Занятость студент', 'Периодичность дохода']\n",
    "\n",
    "X_cat = X[cat_train]\n",
    "X_cat_good = X_good[cat_train]\n",
    "test_cat = test[cat_train]\n",
    "X_numeric = X.drop(cat_train, axis = 1)\n",
    "X_numeric_good = X_good.drop(cat_train, axis = 1)\n",
    "test_numeric = test.drop(cat_train, axis = 1)"
   ]
  },
  {
   "cell_type": "markdown",
   "metadata": {},
   "source": [
    "Identification of numerical features that need to be normalized norm_columns"
   ]
  },
  {
   "cell_type": "code",
   "execution_count": 30,
   "metadata": {
    "collapsed": true
   },
   "outputs": [],
   "source": [
    "norm_columns = ['Сумма займа', 'Сумма дохода заемщика', 'maxLate','максимальный размер тела в просрочке', 'Возраст', \n",
    "                'Стаж работы']\n",
    "X_numeric_norm = X_numeric[norm_columns]\n",
    "X_numeric_norm_good = X_numeric_good[norm_columns]\n",
    "test_numeric_norm = test_numeric[norm_columns]\n",
    "X_numeric.drop(norm_columns, axis = 1, inplace = True)\n",
    "X_numeric_good.drop(norm_columns, axis = 1, inplace = True)\n",
    "test_numeric.drop(norm_columns, axis = 1, inplace = True)"
   ]
  },
  {
   "cell_type": "code",
   "execution_count": 31,
   "metadata": {
    "collapsed": true
   },
   "outputs": [],
   "source": [
    "from sklearn.preprocessing import StandardScaler\n",
    "from sklearn.feature_extraction import DictVectorizer as DV\n",
    "import seaborn as sns\n",
    "import matplotlib.pyplot as plt\n",
    "from sklearn.model_selection import train_test_split, cross_val_score, StratifiedShuffleSplit\n",
    "%matplotlib inline"
   ]
  },
  {
   "cell_type": "markdown",
   "metadata": {},
   "source": [
    "Normalization of numerical features"
   ]
  },
  {
   "cell_type": "code",
   "execution_count": 32,
   "metadata": {
    "collapsed": true
   },
   "outputs": [],
   "source": [
    "scaler = StandardScaler()\n",
    "scaler.fit(X_numeric_norm)\n",
    "X_numeric_norm = scaler.transform(X_numeric_norm)\n",
    "X_numeric_norm_good = scaler.transform(X_numeric_norm_good)\n",
    "test_numeric_norm = scaler.transform(test_numeric_norm)"
   ]
  },
  {
   "cell_type": "markdown",
   "metadata": {},
   "source": [
    "Coding of categorical features"
   ]
  },
  {
   "cell_type": "code",
   "execution_count": 33,
   "metadata": {
    "collapsed": true
   },
   "outputs": [],
   "source": [
    "encoder = DV(sparse = False)\n",
    "X_cat = encoder.fit_transform(X_cat.T.to_dict().values())\n",
    "X_cat_good = encoder.fit_transform(X_cat_good.T.to_dict().values())\n",
    "test_cat = encoder.transform(test_cat.T.to_dict().values())"
   ]
  },
  {
   "cell_type": "markdown",
   "metadata": {},
   "source": [
    "Coding the target attribute and displaying the percentage of the classes"
   ]
  },
  {
   "cell_type": "code",
   "execution_count": 34,
   "metadata": {
    "collapsed": true
   },
   "outputs": [],
   "source": [
    "y = y.map({'Нет': 1, 'Да': 0})"
   ]
  },
  {
   "cell_type": "code",
   "execution_count": 35,
   "metadata": {
    "collapsed": true
   },
   "outputs": [],
   "source": [
    "def add_freq(y):\n",
    "    ncount = y.shape[0]\n",
    "    ax2=ax.twinx()\n",
    "    ax2.yaxis.tick_left()\n",
    "    ax.yaxis.tick_right()\n",
    "    ax.yaxis.set_label_position('right')\n",
    "    ax2.yaxis.set_label_position('left')\n",
    "    ax2.set_ylabel('Frequency [%]')\n",
    "\n",
    "    for p in ax.patches:\n",
    "        x=p.get_bbox().get_points()[:,0]\n",
    "        y=p.get_bbox().get_points()[1,1]\n",
    "        ax.annotate('{:.1f}%'.format(100.*y/ncount), (x.mean(), y), \n",
    "                ha='center', va='bottom')\n",
    "\n",
    "    ax2.set_ylim(0,100)\n",
    "    ax2.grid(None)"
   ]
  },
  {
   "cell_type": "code",
   "execution_count": 36,
   "metadata": {},
   "outputs": [
    {
     "data": {
      "image/png": "[encoded data removed]",
      "text/plain": [
       "<matplotlib.figure.Figure at 0x567a47dfd0>"
      ]
     },
     "metadata": {},
     "output_type": "display_data"
    }
   ],
   "source": [
    "ax = sns.countplot(x = y ,palette=\"Set3\")\n",
    "sns.set(font_scale=1.5)\n",
    "ax.set_ylim(top = 150000)\n",
    "ax.set_xlabel(' ')\n",
    "ax.set_ylabel(' ')\n",
    "fig = plt.gcf()\n",
    "fig.set_size_inches(10,5)\n",
    "ax.set_ylim(top=y.shape[0])\n",
    "add_freq(y)\n",
    "plt.show()"
   ]
  },
  {
   "cell_type": "markdown",
   "metadata": {},
   "source": [
    "Creating arrays for learning based on our features"
   ]
  },
  {
   "cell_type": "code",
   "execution_count": 37,
   "metadata": {
    "collapsed": true
   },
   "outputs": [],
   "source": [
    "X_full = np.hstack((X_numeric, X_numeric_norm, X_cat))\n",
    "X_full_good = np.hstack((X_numeric_good, X_numeric_norm_good, X_cat_good))\n",
    "test_full = np.hstack((test_numeric, test_numeric_norm, test_cat))"
   ]
  },
  {
   "cell_type": "markdown",
   "metadata": {},
   "source": [
    "# Training"
   ]
  },
  {
   "cell_type": "markdown",
   "metadata": {},
   "source": [
    "Separation of the training dataset and target variable into test and training using stratification of samples"
   ]
  },
  {
   "cell_type": "code",
   "execution_count": 38,
   "metadata": {
    "collapsed": true
   },
   "outputs": [],
   "source": [
    "X_train, X_test, y_train, y_test = train_test_split(X_full, y, test_size=0.2, random_state=0, stratify=y)"
   ]
  },
  {
   "cell_type": "code",
   "execution_count": 39,
   "metadata": {
    "collapsed": true
   },
   "outputs": [],
   "source": [
    "def cvDictionary(functions, scoring_metric, X_train=X_train, y_train=y_train, verbose=1):\n",
    "    cvDict = {}\n",
    "    cv = StratifiedShuffleSplit(n_splits = 5, test_size = 0.2, random_state = 241)\n",
    "    for func in functions:\n",
    "        cvScore = cross_val_score(func, X_train, y_train, cv=cv, verbose=verbose, scoring=scoring_metric, n_jobs = 3)\n",
    "        cvDict[str(func).split('(')[0]] = [cvScore.mean(), cvScore.std()]\n",
    "    \n",
    "    return cvDict"
   ]
  },
  {
   "cell_type": "code",
   "execution_count": 40,
   "metadata": {
    "collapsed": true
   },
   "outputs": [],
   "source": [
    "from sklearn.linear_model import LogisticRegression\n",
    "from sklearn.ensemble import AdaBoostClassifier, GradientBoostingClassifier, RandomForestClassifier\n",
    "from sklearn.neighbors import KNeighborsClassifier\n",
    "from sklearn.svm import SVC"
   ]
  },
  {
   "cell_type": "markdown",
   "metadata": {
    "collapsed": true
   },
   "source": [
    "Create classifiers and find the optimal for a given sample, using both the roc_auc metric"
   ]
  },
  {
   "cell_type": "code",
   "execution_count": 41,
   "metadata": {
    "collapsed": true
   },
   "outputs": [],
   "source": [
    "knMod = KNeighborsClassifier(n_neighbors = 5, n_jobs = 3)\n",
    "glmMod = LogisticRegression(penalty = 'l1', C = 1.0)\n",
    "adaMod = AdaBoostClassifier(n_estimators = 200, learning_rate = 1.0)\n",
    "gbMod = GradientBoostingClassifier(n_estimators = 50)\n",
    "rfMod = RandomForestClassifier(n_estimators = 50)"
   ]
  },
  {
   "cell_type": "code",
   "execution_count": 42,
   "metadata": {},
   "outputs": [
    {
     "name": "stderr",
     "output_type": "stream",
     "text": [
      "[Parallel(n_jobs=3)]: Done   5 out of   5 | elapsed:   15.7s finished\n",
      "[Parallel(n_jobs=3)]: Done   5 out of   5 | elapsed:   12.6s finished\n",
      "[Parallel(n_jobs=3)]: Done   5 out of   5 | elapsed:   28.5s finished\n",
      "[Parallel(n_jobs=3)]: Done   5 out of   5 | elapsed:   18.5s finished\n",
      "[Parallel(n_jobs=3)]: Done   5 out of   5 | elapsed:   13.5s finished\n"
     ]
    }
   ],
   "source": [
    "cvD = cvDictionary([knMod, glmMod, adaMod, gbMod, rfMod], 'roc_auc', X_train, y_train)"
   ]
  },
  {
   "cell_type": "code",
   "execution_count": 43,
   "metadata": {},
   "outputs": [
    {
     "data": {
      "text/plain": [
       "{'AdaBoostClassifier': [0.8030278895595796, 0.006936492656776652],\n",
       " 'GradientBoostingClassifier': [0.80006287726358138, 0.0065951657514010283],\n",
       " 'KNeighborsClassifier': [0.6556025970638647, 0.011569499221281775],\n",
       " 'LogisticRegression': [0.79814181384603911, 0.0039023497920167528],\n",
       " 'RandomForestClassifier': [0.76870929279379985, 0.012346003231386045]}"
      ]
     },
     "execution_count": 43,
     "metadata": {},
     "output_type": "execute_result"
    }
   ],
   "source": [
    "cvD"
   ]
  },
  {
   "cell_type": "markdown",
   "metadata": {},
   "source": [
    "As you can see, the best values were shown by AdaBoostClassifier, GradientBoostingClassifier, LogisticRegression. We will try to walk through their parameters and improve the quality using GridSearchCV"
   ]
  },
  {
   "cell_type": "code",
   "execution_count": 44,
   "metadata": {
    "collapsed": true
   },
   "outputs": [],
   "source": [
    "from sklearn.model_selection import GridSearchCV\n",
    "cv = StratifiedShuffleSplit(n_splits = 3, test_size = 0.2, random_state = 241)"
   ]
  },
  {
   "cell_type": "code",
   "execution_count": 45,
   "metadata": {},
   "outputs": [
    {
     "name": "stdout",
     "output_type": "stream",
     "text": [
      "Wall time: 15.3 s\n"
     ]
    }
   ],
   "source": [
    "%%time\n",
    "glmHyperParams = {'C' : [0.1, 1, 10, 100],\n",
    "                 'penalty': ['l2', 'l1']}\n",
    "grid_cv_lr = GridSearchCV(glmMod, glmHyperParams, scoring = 'roc_auc', cv=cv, n_jobs = 3)\n",
    "grid_cv_lr.fit(X_train, y_train)"
   ]
  },
  {
   "cell_type": "code",
   "execution_count": 46,
   "metadata": {},
   "outputs": [
    {
     "data": {
      "text/plain": [
       "({'C': 1, 'penalty': 'l1'}, 0.79530982189432908)"
      ]
     },
     "execution_count": 46,
     "metadata": {},
     "output_type": "execute_result"
    }
   ],
   "source": [
    "grid_cv_lr.best_params_, grid_cv_lr.best_score_"
   ]
  },
  {
   "cell_type": "markdown",
   "metadata": {},
   "source": [
    "Classifier LogisticRegression didn't improve result"
   ]
  },
  {
   "cell_type": "code",
   "execution_count": 47,
   "metadata": {},
   "outputs": [
    {
     "name": "stdout",
     "output_type": "stream",
     "text": [
      "Wall time: 43.1 s\n"
     ]
    }
   ],
   "source": [
    "%%time\n",
    "adaHyperParams = {'n_estimators': [50, 100, 150, 200]}\n",
    "grid_cv_ada = GridSearchCV(adaMod, adaHyperParams, scoring = 'roc_auc', cv=cv, n_jobs = 3)\n",
    "grid_cv_ada.fit(X_train, y_train)"
   ]
  },
  {
   "cell_type": "code",
   "execution_count": 48,
   "metadata": {},
   "outputs": [
    {
     "data": {
      "text/plain": [
       "({'n_estimators': 100}, 0.80085637280472954)"
      ]
     },
     "execution_count": 48,
     "metadata": {},
     "output_type": "execute_result"
    }
   ],
   "source": [
    "grid_cv_ada.best_params_, grid_cv_ada.best_score_"
   ]
  },
  {
   "cell_type": "code",
   "execution_count": 49,
   "metadata": {
    "collapsed": true
   },
   "outputs": [],
   "source": [
    "bestAdaModFitted = grid_cv_ada.best_estimator_.fit(X_train, y_train)"
   ]
  },
  {
   "cell_type": "code",
   "execution_count": 50,
   "metadata": {
    "collapsed": true
   },
   "outputs": [],
   "source": [
    "from sklearn.metrics import auc, roc_curve"
   ]
  },
  {
   "cell_type": "markdown",
   "metadata": {},
   "source": [
    "Finding the auc and gini metrics for AdaBoostClassifier"
   ]
  },
  {
   "cell_type": "code",
   "execution_count": 51,
   "metadata": {},
   "outputs": [
    {
     "data": {
      "text/plain": [
       "(0.81914362038328981, 0.63828724076657961)"
      ]
     },
     "execution_count": 51,
     "metadata": {},
     "output_type": "execute_result"
    }
   ],
   "source": [
    "preds = bestAdaModFitted.predict_proba(X_test)[:,1]\n",
    "fpr, tpr, threshold = roc_curve(y_test, preds)\n",
    "auc_ada = auc(fpr, tpr)\n",
    "gini_ada = 2 * auc_ada - 1\n",
    "(auc_ada, gini_ada)"
   ]
  },
  {
   "cell_type": "markdown",
   "metadata": {},
   "source": [
    "Function for constructing the roc curve"
   ]
  },
  {
   "cell_type": "code",
   "execution_count": 52,
   "metadata": {
    "collapsed": true
   },
   "outputs": [],
   "source": [
    "def build_roc_auc(auc):\n",
    "    plt.title('Receiver Operating Characteristic')\n",
    "    plt.plot(fpr, tpr, 'b', label = 'AUC = %0.3f' % auc)\n",
    "    plt.legend(loc = 'lower right')\n",
    "    plt.plot([0, 1], [0, 1],'r--')\n",
    "    plt.xlim([0, 1])\n",
    "    plt.ylim([0, 1])\n",
    "    plt.ylabel('True Positive Rate')\n",
    "    plt.xlabel('False Positive Rate')\n",
    "    fig = plt.gcf()\n",
    "    fig.set_size_inches(15,5)\n",
    "    plt.show()"
   ]
  },
  {
   "cell_type": "markdown",
   "metadata": {},
   "source": [
    "Building a roc curve for AdaBoostClassifier"
   ]
  },
  {
   "cell_type": "code",
   "execution_count": 53,
   "metadata": {},
   "outputs": [
    {
     "data": {
      "image/png": "[encoded data removed]",
      "text/plain": [
       "<matplotlib.figure.Figure at 0x567a5f3ef0>"
      ]
     },
     "metadata": {},
     "output_type": "display_data"
    }
   ],
   "source": [
    "build_roc_auc(auc_ada)"
   ]
  },
  {
   "cell_type": "code",
   "execution_count": 54,
   "metadata": {},
   "outputs": [
    {
     "name": "stdout",
     "output_type": "stream",
     "text": [
      "Wall time: 3min 15s\n"
     ]
    }
   ],
   "source": [
    "%%time\n",
    "gbHyperParams = {'n_estimators': [150, 200, 250],\n",
    "                 'max_depth': [2, 3, 4]}\n",
    "grid_cv_gb = GridSearchCV(gbMod, gbHyperParams, scoring = 'roc_auc', cv=cv, n_jobs = 3)\n",
    "grid_cv_gb.fit(X_train, y_train)"
   ]
  },
  {
   "cell_type": "code",
   "execution_count": 55,
   "metadata": {},
   "outputs": [
    {
     "data": {
      "text/plain": [
       "({'max_depth': 2, 'n_estimators': 250}, 0.80606773356186512)"
      ]
     },
     "execution_count": 55,
     "metadata": {},
     "output_type": "execute_result"
    }
   ],
   "source": [
    "grid_cv_gb.best_params_, grid_cv_gb.best_score_"
   ]
  },
  {
   "cell_type": "code",
   "execution_count": 56,
   "metadata": {
    "collapsed": true
   },
   "outputs": [],
   "source": [
    "bestGbModFitted = grid_cv_gb.best_estimator_.fit(X_train, y_train)"
   ]
  },
  {
   "cell_type": "markdown",
   "metadata": {},
   "source": [
    "Finding the auc and gini metrics for the GradientBoostingClassifier"
   ]
  },
  {
   "cell_type": "code",
   "execution_count": 57,
   "metadata": {},
   "outputs": [
    {
     "data": {
      "text/plain": [
       "(0.8187226455821498, 0.6374452911642996)"
      ]
     },
     "execution_count": 57,
     "metadata": {},
     "output_type": "execute_result"
    }
   ],
   "source": [
    "preds = bestGbModFitted.predict_proba(X_test)[:,1]\n",
    "fpr, tpr, threshold = roc_curve(y_test, preds)\n",
    "auc_gb = auc(fpr, tpr)\n",
    "gini_gb = 2 * auc_gb - 1\n",
    "(auc_gb, gini_gb)"
   ]
  },
  {
   "cell_type": "markdown",
   "metadata": {},
   "source": [
    "Building a roc curve for the GradientBoostingClassifier"
   ]
  },
  {
   "cell_type": "code",
   "execution_count": 58,
   "metadata": {},
   "outputs": [
    {
     "data": {
      "image/png": "[encoded data removed]",
      "text/plain": [
       "<matplotlib.figure.Figure at 0x567bb28e10>"
      ]
     },
     "metadata": {},
     "output_type": "display_data"
    }
   ],
   "source": [
    "build_roc_auc(auc_gb)"
   ]
  },
  {
   "cell_type": "markdown",
   "metadata": {},
   "source": [
    "Variant of the function for counting gini without using the auc metric from sklearn.metrics"
   ]
  },
  {
   "cell_type": "code",
   "execution_count": 59,
   "metadata": {
    "collapsed": true
   },
   "outputs": [],
   "source": [
    "def gini(actual, pred, cmpcol = 0, sortcol = 1):\n",
    "    assert( len(actual) == len(pred) )\n",
    "    all = np.asarray(np.c_[ actual, pred, np.arange(len(actual)) ], dtype=np.float)\n",
    "    all = all[ np.lexsort((all[:,2], -1*all[:,1])) ]\n",
    "    totalLosses = all[:,0].sum()\n",
    "    giniSum = all[:,0].cumsum().sum() / totalLosses\n",
    "    giniSum -= (len(actual) + 1) / 2.\n",
    "    return giniSum / len(actual)\n",
    "\n",
    "def gini_normalized(a, p):\n",
    "    return gini(a, p) / gini(a, a)"
   ]
  },
  {
   "cell_type": "code",
   "execution_count": 60,
   "metadata": {},
   "outputs": [
    {
     "data": {
      "text/plain": [
       "0.63744767629065147"
      ]
     },
     "execution_count": 60,
     "metadata": {},
     "output_type": "execute_result"
    }
   ],
   "source": [
    "gini_normalized(y_test, preds)"
   ]
  },
  {
   "cell_type": "markdown",
   "metadata": {},
   "source": [
    "Function for finding the optimal point on roc_curve"
   ]
  },
  {
   "cell_type": "code",
   "execution_count": 61,
   "metadata": {
    "collapsed": true
   },
   "outputs": [],
   "source": [
    "def rocZeroOne(y_true, y_predicted_porba):\n",
    "    \n",
    "    from sklearn.metrics import roc_curve\n",
    "    from scipy.spatial.distance import euclidean\n",
    "    \n",
    "    fpr, tpr, thresholds = roc_curve(y_true, y_predicted_porba[:, 1])\n",
    "    \n",
    "    best = [0, 1]\n",
    "    dist = []\n",
    "    for (x, y) in zip(fpr, tpr):\n",
    "        dist.append([euclidean([x,y], best)])\n",
    "\n",
    "    bestPoint = [fpr[dist.index(min(dist))], tpr[dist.index(min(dist))]]\n",
    "    \n",
    "    bestCutOff1 = thresholds[list(fpr).index(bestPoint[0])]\n",
    "    bestCutOff2 = thresholds[list(tpr).index(bestPoint[1])]\n",
    "    \n",
    "    print ('\\n' + 'Best point on the ROC: TPR = {:0.3f}%, FPR = {:0.3f}%'.format(bestPoint[1]*100, bestPoint[0]*100))\n",
    "    print ('\\n' + 'Best Cut-Off point: {:0.4f}'.format(bestCutOff1))\n",
    "\n",
    "    plt.plot(dist)\n",
    "    plt.xlabel('Index')\n",
    "    plt.ylabel('Euclidean Distance to the perfect [0,1]')\n",
    "    fig = plt.gcf()\n",
    "    fig.set_size_inches(15,5)"
   ]
  },
  {
   "cell_type": "markdown",
   "metadata": {},
   "source": [
    "Finding the optimal point on roc_curve for GradientBoostingClassifier"
   ]
  },
  {
   "cell_type": "code",
   "execution_count": 62,
   "metadata": {},
   "outputs": [
    {
     "name": "stdout",
     "output_type": "stream",
     "text": [
      "\n",
      "Best point on the ROC: TPR = 76.429%, FPR = 27.899%\n",
      "\n",
      "Best Cut-Off point: 0.0912\n"
     ]
    },
    {
     "data": {
      "image/png": "[encoded data removed]",
      "text/plain": [
       "<matplotlib.figure.Figure at 0x567a8f39b0>"
      ]
     },
     "metadata": {},
     "output_type": "display_data"
    }
   ],
   "source": [
    "rocZeroOne(y_test, bestGbModFitted.predict_proba(X_test))"
   ]
  },
  {
   "cell_type": "markdown",
   "metadata": {},
   "source": [
    "Finding the optimal point on roc_curve for AdaBoostClassifier "
   ]
  },
  {
   "cell_type": "code",
   "execution_count": 63,
   "metadata": {},
   "outputs": [
    {
     "name": "stdout",
     "output_type": "stream",
     "text": [
      "\n",
      "Best point on the ROC: TPR = 78.129%, FPR = 26.374%\n",
      "\n",
      "Best Cut-Off point: 0.4944\n"
     ]
    },
    {
     "data": {
      "image/png": "[encoded data removed]",
      "text/plain": [
       "<matplotlib.figure.Figure at 0x567a8c61d0>"
      ]
     },
     "metadata": {},
     "output_type": "display_data"
    }
   ],
   "source": [
    "rocZeroOne(y_train, bestAdaModFitted.predict_proba(X_train))"
   ]
  },
  {
   "cell_type": "markdown",
   "metadata": {},
   "source": [
    "Function of constructing an error matrix"
   ]
  },
  {
   "cell_type": "code",
   "execution_count": 64,
   "metadata": {
    "collapsed": true
   },
   "outputs": [],
   "source": [
    "def plot_confusion_matrix(y_true, y_pred, title = 'Confusion matrix', cmap=plt.cm.Blues):\n",
    "    from sklearn.metrics import classification_report\n",
    "    from sklearn.metrics import confusion_matrix\n",
    "    print('Classification Report:\\n')\n",
    "    print(classification_report(y_true, y_pred))\n",
    "    cm = confusion_matrix(y_true, y_pred)\n",
    "    def plot_confusion_matrix_plot(cm, title = 'Confusion matrix', cmap=plt.cm.Blues):\n",
    "        plt.imshow(cm, interpolation='nearest', cmap=cmap)\n",
    "        plt.title(title)\n",
    "        plt.colorbar()\n",
    "        tick_marks = np.arange(len(y_test.unique()))\n",
    "        plt.xticks(tick_marks, rotation=45)\n",
    "        plt.yticks(tick_marks)\n",
    "        plt.tight_layout()\n",
    "        plt.ylabel('True label')\n",
    "        plt.xlabel('Predicted label')\n",
    "    \n",
    "    print('\\n Confusion matrix, without normalization: \\n')\n",
    "    print(cm)\n",
    "    plot_confusion_matrix_plot(cm=cm)\n",
    "    \n",
    "    cm_normalized = cm.astype('float') / cm.sum(axis=1)[:, np.newaxis]\n",
    "    print('\\n Normalized confusion matrix \\n')\n",
    "    print(cm_normalized)\n",
    "    plt.figure()\n",
    "    plot_confusion_matrix_plot(cm_normalized, title='Normalized confusion matrix')\n",
    "\n",
    "def makePredThresh(fittedCls, thr, X_test):\n",
    "    prob = fittedCls.predict_proba(X_test)[: ,1]\n",
    "    final = []\n",
    "    for p in prob:\n",
    "        if p >= thr:\n",
    "            final.append(1)\n",
    "        else:\n",
    "            final.append(0)\n",
    "    \n",
    "    return final"
   ]
  },
  {
   "cell_type": "code",
   "execution_count": 65,
   "metadata": {
    "collapsed": true
   },
   "outputs": [],
   "source": [
    "pred = makePredThresh(bestGbModFitted, 0.0912, X_test)"
   ]
  },
  {
   "cell_type": "markdown",
   "metadata": {},
   "source": [
    "error matrix for GradientBoostingClassifier"
   ]
  },
  {
   "cell_type": "code",
   "execution_count": 66,
   "metadata": {},
   "outputs": [
    {
     "name": "stdout",
     "output_type": "stream",
     "text": [
      "Classification Report:\n",
      "\n",
      "             precision    recall  f1-score   support\n",
      "\n",
      "          0       0.97      0.72      0.83      3993\n",
      "          1       0.22      0.76      0.34       420\n",
      "\n",
      "avg / total       0.90      0.72      0.78      4413\n",
      "\n",
      "\n",
      " Confusion matrix, without normalization: \n",
      "\n",
      "[[2880 1113]\n",
      " [ 101  319]]\n",
      "\n",
      " Normalized confusion matrix \n",
      "\n",
      "[[ 0.72126221  0.27873779]\n",
      " [ 0.24047619  0.75952381]]\n"
     ]
    },
    {
     "data": {
      "image/png": "[encoded data removed]",
      "text/plain": [
       "<matplotlib.figure.Figure at 0x567b340780>"
      ]
     },
     "metadata": {},
     "output_type": "display_data"
    },
    {
     "data": {
      "image/png": "[encoded data removed]",
      "text/plain": [
       "<matplotlib.figure.Figure at 0x567a7b70b8>"
      ]
     },
     "metadata": {},
     "output_type": "display_data"
    }
   ],
   "source": [
    "plot_confusion_matrix(y_test, pred)"
   ]
  },
  {
   "cell_type": "code",
   "execution_count": 67,
   "metadata": {
    "collapsed": true
   },
   "outputs": [],
   "source": [
    "predAda = makePredThresh(bestAdaModFitted, 0.4943, X_test)"
   ]
  },
  {
   "cell_type": "markdown",
   "metadata": {},
   "source": [
    "error matrix for AdaBoostClassifier"
   ]
  },
  {
   "cell_type": "code",
   "execution_count": 68,
   "metadata": {},
   "outputs": [
    {
     "name": "stdout",
     "output_type": "stream",
     "text": [
      "Classification Report:\n",
      "\n",
      "             precision    recall  f1-score   support\n",
      "\n",
      "          0       0.97      0.72      0.83      3993\n",
      "          1       0.23      0.79      0.35       420\n",
      "\n",
      "avg / total       0.90      0.73      0.78      4413\n",
      "\n",
      "\n",
      " Confusion matrix, without normalization: \n",
      "\n",
      "[[2870 1123]\n",
      " [  90  330]]\n",
      "\n",
      " Normalized confusion matrix \n",
      "\n",
      "[[ 0.71875783  0.28124217]\n",
      " [ 0.21428571  0.78571429]]\n"
     ]
    },
    {
     "data": {
      "image/png": "[encoded data removed]",
      "text/plain": [
       "<matplotlib.figure.Figure at 0x567b6e8a20>"
      ]
     },
     "metadata": {},
     "output_type": "display_data"
    },
    {
     "data": {
      "image/png": "[encoded data removed]",
      "text/plain": [
       "<matplotlib.figure.Figure at 0x5601ad7cc0>"
      ]
     },
     "metadata": {},
     "output_type": "display_data"
    }
   ],
   "source": [
    "plot_confusion_matrix(y_test, predAda)"
   ]
  },
  {
   "cell_type": "markdown",
   "metadata": {},
   "source": [
    "Both algorithms showed approximately the same quality, we will stop at GradientBoostingClassifier, as it interprets probabilities in a more familiar mode. Find the probability matrix for the test and training dataset."
   ]
  },
  {
   "cell_type": "code",
   "execution_count": 69,
   "metadata": {
    "collapsed": true
   },
   "outputs": [],
   "source": [
    "prob_train = bestGbModFitted.predict_proba(X_full)\n",
    "prob_test = bestGbModFitted.predict_proba(test_full)"
   ]
  },
  {
   "cell_type": "code",
   "execution_count": 70,
   "metadata": {
    "collapsed": true
   },
   "outputs": [],
   "source": [
    "prob_train_check = prob_train[:, 1]\n",
    "prob_test_check = prob_test[:, 1]"
   ]
  },
  {
   "cell_type": "markdown",
   "metadata": {},
   "source": [
    "We find the best classifier that extinguishes credit compares the target variable y_delay_train, where 0 - the loan was repaid in time, 1- was overdue, 2 - the extension date is longer than the original loan end date, and we will train it"
   ]
  },
  {
   "cell_type": "code",
   "execution_count": 71,
   "metadata": {},
   "outputs": [
    {
     "name": "stderr",
     "output_type": "stream",
     "text": [
      "[Parallel(n_jobs=3)]: Done   5 out of   5 | elapsed:    8.8s finished\n",
      "[Parallel(n_jobs=3)]: Done   5 out of   5 | elapsed:    7.8s finished\n",
      "[Parallel(n_jobs=3)]: Done   5 out of   5 | elapsed:   29.6s finished\n",
      "[Parallel(n_jobs=3)]: Done   5 out of   5 | elapsed:   42.6s finished\n",
      "[Parallel(n_jobs=3)]: Done   5 out of   5 | elapsed:    8.9s finished\n"
     ]
    }
   ],
   "source": [
    "cvD_good = cvDictionary([knMod, glmMod, adaMod, gbMod, rfMod], 'log_loss', X_full_good, y_delay_train)"
   ]
  },
  {
   "cell_type": "code",
   "execution_count": 72,
   "metadata": {},
   "outputs": [
    {
     "data": {
      "text/plain": [
       "{'AdaBoostClassifier': [-1.0963838377434278, 0.0001011813297753818],\n",
       " 'GradientBoostingClassifier': [-0.92348036759897612, 0.0020357997231409599],\n",
       " 'KNeighborsClassifier': [-5.1310814815506003, 0.12265139567655213],\n",
       " 'LogisticRegression': [-0.93872483370965953, 0.0033791536489271071],\n",
       " 'RandomForestClassifier': [-1.0288708006063689, 0.016554002262778918]}"
      ]
     },
     "execution_count": 72,
     "metadata": {},
     "output_type": "execute_result"
    }
   ],
   "source": [
    "cvD_good"
   ]
  },
  {
   "cell_type": "code",
   "execution_count": 73,
   "metadata": {},
   "outputs": [
    {
     "name": "stdout",
     "output_type": "stream",
     "text": [
      "Wall time: 7min 13s\n"
     ]
    }
   ],
   "source": [
    "%%time\n",
    "gbHyperParams = {'n_estimators': [50, 100, 200],\n",
    "                 'max_depth': [1, 3, 5]}\n",
    "grid_cv_gb_good = GridSearchCV(gbMod, gbHyperParams, scoring = 'log_loss', cv=cv, n_jobs = 3)\n",
    "grid_cv_gb_good.fit(X_full_good, y_delay_train)"
   ]
  },
  {
   "cell_type": "code",
   "execution_count": 74,
   "metadata": {},
   "outputs": [
    {
     "data": {
      "text/plain": [
       "({'max_depth': 3, 'n_estimators': 200}, -0.91774104799641165)"
      ]
     },
     "execution_count": 74,
     "metadata": {},
     "output_type": "execute_result"
    }
   ],
   "source": [
    "grid_cv_gb_good.best_params_, grid_cv_gb_good.best_score_"
   ]
  },
  {
   "cell_type": "code",
   "execution_count": 75,
   "metadata": {
    "collapsed": true
   },
   "outputs": [],
   "source": [
    "bestGbModFittedGood = grid_cv_gb_good.best_estimator_.fit(X_full_good, y_delay_train)"
   ]
  },
  {
   "cell_type": "markdown",
   "metadata": {},
   "source": [
    "Find the probability matrices for the test and training dataset for the variable y_delay_train"
   ]
  },
  {
   "cell_type": "code",
   "execution_count": 76,
   "metadata": {
    "collapsed": true
   },
   "outputs": [],
   "source": [
    "preds_good_train = bestGbModFittedGood.predict_proba(X_full)\n",
    "preds_good_test = bestGbModFittedGood.predict_proba(test_full)"
   ]
  },
  {
   "cell_type": "markdown",
   "metadata": {},
   "source": [
    "Calculate the variables profit_train, profit_test expected profit for the test and training dataset, which will display the expected profit, not taking into account the probability of a possible return of interest on an outstanding loan."
   ]
  },
  {
   "cell_type": "code",
   "execution_count": 77,
   "metadata": {
    "collapsed": true
   },
   "outputs": [],
   "source": [
    "profit_credit_train = [i[0] * mean_percents + i[1] * mean_pay + i[2] *mean_pay_pr for i in preds_good_train]\n",
    "profit_credit_test = [i[0] * mean_percents + i[1] * mean_pay + i[2] *mean_pay_pr for i in preds_good_test]"
   ]
  },
  {
   "cell_type": "code",
   "execution_count": 78,
   "metadata": {
    "collapsed": true
   },
   "outputs": [],
   "source": [
    "profit_train = np.array([prob_train[i][0] * amount - prob_train[i][1] for i, amount in enumerate(profit_credit_train)])\n",
    "profit_test = np.array([prob_test[i][0] * amount - prob_test[i][1] for i, amount in enumerate(profit_credit_test)])"
   ]
  },
  {
   "cell_type": "code",
   "execution_count": 79,
   "metadata": {
    "collapsed": true
   },
   "outputs": [],
   "source": [
    "scoring_class_train = np.column_stack((prob_train_check, profit_train))\n",
    "scoring_class_test = np.column_stack((prob_test_check, profit_test))"
   ]
  },
  {
   "cell_type": "markdown",
   "metadata": {},
   "source": [
    "Separation of our clients into 4 classes, where 1 - it is necessary to lend, 2 - you can lend, 3 - you can lend, with increased risk of non-return, 4 - you can not categorically credit"
   ]
  },
  {
   "cell_type": "code",
   "execution_count": 80,
   "metadata": {
    "collapsed": true
   },
   "outputs": [],
   "source": [
    "size_train = len(scoring_class_train)\n",
    "category_сredit_train = np.zeros(size_train)\n",
    "for i in range(size_train):\n",
    "    if scoring_class_train[i, 0] < 0.023:\n",
    "        category_сredit_train[i] = 1\n",
    "    elif scoring_class_train[i, 0] < 0.07:\n",
    "        category_сredit_train[i] = 2\n",
    "    elif scoring_class_train[i, 0] < 0.2 and scoring_class_train[i, 1] > 0.43:\n",
    "        category_сredit_train[i] = 3    \n",
    "    else:\n",
    "        category_сredit_train[i] = 4    "
   ]
  },
  {
   "cell_type": "code",
   "execution_count": 82,
   "metadata": {
    "collapsed": true
   },
   "outputs": [],
   "source": [
    "class_train_checker = np.column_stack((scoring_class_train, y, category_сredit_train))"
   ]
  },
  {
   "cell_type": "code",
   "execution_count": 84,
   "metadata": {
    "collapsed": true
   },
   "outputs": [],
   "source": [
    "from collections import Counter\n",
    "import math\n",
    "from scipy.stats import ks_2samp"
   ]
  },
  {
   "cell_type": "code",
   "execution_count": 85,
   "metadata": {},
   "outputs": [
    {
     "name": "stdout",
     "output_type": "stream",
     "text": [
      "Возврат кредита для 1 класса: 0 - да, 1 - нет\n",
      "Counter({0.0: 5063, 1.0: 19})\n",
      "Возврат кредита для 1 класса: 0 - да, 1 - нет\n",
      "Counter({0.0: 7686, 1.0: 255})\n",
      "Возврат кредита для 1 класса: 0 - да, 1 - нет\n",
      "Counter({0.0: 2826, 1.0: 380})\n",
      "Возврат кредита для 1 класса: 0 - да, 1 - нет\n",
      "Counter({0.0: 4392, 1.0: 1444})\n"
     ]
    }
   ],
   "source": [
    "print('Возврат кредита для 1 класса: 0 - да, 1 - нет')\n",
    "print(Counter(i for i in class_train_checker[class_train_checker[:,3] == 1][:,2]))\n",
    "print('Возврат кредита для 1 класса: 0 - да, 1 - нет')\n",
    "print(Counter(i for i in class_train_checker[class_train_checker[:,3] == 2][:,2]))\n",
    "print('Возврат кредита для 1 класса: 0 - да, 1 - нет')\n",
    "print(Counter(i for i in class_train_checker[class_train_checker[:,3] == 3][:,2]))\n",
    "print('Возврат кредита для 1 класса: 0 - да, 1 - нет')\n",
    "print(Counter(i for i in class_train_checker[class_train_checker[:,3] == 4][:,2]))"
   ]
  },
  {
   "cell_type": "code",
   "execution_count": 86,
   "metadata": {
    "collapsed": true
   },
   "outputs": [],
   "source": [
    "size_test = len(scoring_class_test)\n",
    "category_сredit_test = np.zeros(size_test)\n",
    "for i in range(size_test):\n",
    "    if scoring_class_test[i, 0] < 0.023:\n",
    "        category_сredit_test[i] = 1\n",
    "    elif scoring_class_test[i, 0] < 0.07:\n",
    "        category_сredit_test[i] = 2\n",
    "    elif scoring_class_test[i, 0] < 0.2 and scoring_class_test[i, 1] > 0.43:\n",
    "        category_сredit_test[i] = 3    \n",
    "    else:\n",
    "        category_сredit_test[i] = 4    "
   ]
  },
  {
   "cell_type": "code",
   "execution_count": 87,
   "metadata": {
    "collapsed": true
   },
   "outputs": [],
   "source": [
    "counter_train = Counter(i for i in category_сredit_train)\n",
    "counter_test = Counter(i for i in category_сredit_test)"
   ]
  },
  {
   "cell_type": "code",
   "execution_count": 88,
   "metadata": {},
   "outputs": [
    {
     "name": "stdout",
     "output_type": "stream",
     "text": [
      "Counter({2.0: 7941, 4.0: 5836, 1.0: 5082, 3.0: 3206})\n",
      "Counter({2.0: 4428, 4.0: 3991, 1.0: 3110, 3.0: 1817})\n"
     ]
    }
   ],
   "source": [
    "print(counter_train)\n",
    "print(counter_test)"
   ]
  },
  {
   "cell_type": "markdown",
   "metadata": {},
   "source": [
    "Population stability index"
   ]
  },
  {
   "cell_type": "code",
   "execution_count": 89,
   "metadata": {},
   "outputs": [
    {
     "data": {
      "text/plain": [
       "0.007154355702547228"
      ]
     },
     "execution_count": 89,
     "metadata": {},
     "output_type": "execute_result"
    }
   ],
   "source": [
    "PSI = sum([math.log((counter_test[key] * size_train) / (counter_train[key] * size_test)) * (counter_test[key] / size_test - \n",
    "                                            counter_train[key] / size_train) for key in counter_train.keys()])\n",
    "PSI"
   ]
  },
  {
   "cell_type": "markdown",
   "metadata": {},
   "source": [
    "Graphs of distribution functions for the training and test dataset"
   ]
  },
  {
   "cell_type": "code",
   "execution_count": 91,
   "metadata": {},
   "outputs": [
    {
     "data": {
      "image/png": "[encoded data removed]",
      "text/plain": [
       "<matplotlib.figure.Figure at 0x567cd9ad30>"
      ]
     },
     "metadata": {},
     "output_type": "display_data"
    }
   ],
   "source": [
    "plt.hist(category_сredit_train, normed=True, cumulative=True, label='CDF', histtype='step', alpha=0.8, color = 'g')\n",
    "plt.show()"
   ]
  },
  {
   "cell_type": "code",
   "execution_count": 92,
   "metadata": {},
   "outputs": [
    {
     "data": {
      "image/png": "[encoded data removed]",
      "text/plain": [
       "<matplotlib.figure.Figure at 0x567c2244a8>"
      ]
     },
     "metadata": {},
     "output_type": "display_data"
    }
   ],
   "source": [
    "plt.hist(category_сredit_test, normed=True, cumulative=True, label='CDF', histtype='step', alpha=0.8, color='r')\n",
    "plt.show()"
   ]
  },
  {
   "cell_type": "code",
   "execution_count": 107,
   "metadata": {
    "collapsed": true
   },
   "outputs": [],
   "source": [
    "answer = np.column_stack((test_data['Договор номер'], category_сredit_test))"
   ]
  },
  {
   "cell_type": "markdown",
   "metadata": {},
   "source": [
    "Вывод ответа в файл answer.txt"
   ]
  },
  {
   "cell_type": "code",
   "execution_count": 111,
   "metadata": {
    "collapsed": true
   },
   "outputs": [],
   "source": [
    "with open('answer.txt', 'w') as f:\n",
    "    f.write(\"{0}\\t{1}\\n\".format('Contract_number','Client_class'))\n",
    "    for x, y in answer:\n",
    "        f.write(\"{0}\\t{1}\\n\".format(x,y))"
   ]
  },
  {
   "cell_type": "markdown",
   "metadata": {
    "collapsed": true
   },
   "source": [
    "# Conclusion"
   ]
  },
  {
   "cell_type": "markdown",
   "metadata": {
    "collapsed": true
   },
   "source": [
    "Based on the gradient and adaptive boosting and the roc_auc metric, classifiers were constructed to determine the customer's return of the loan. For these classifiers, a roc-curve was constructed, and metrics gini and auc - (0.8187226455821498, 0.6374452911642996), (0.81914362038328981, 0.63828724076657961), respectively, were found. Also, for each algorithm, optimal points were found on the roc-curve with classification thresholds (0.0912, 0.4944) and error matrices were constructed. For further use, a gradient-based classifier was chosen. In addition, a classifier was created to determine the probability of delinquency or prolonged prolongation for customers who repaid the loan on time. To build it, we used gradient boosting and a quality metric called log_loss. With the help of this classifier, the expected profit for each client was calculated. As a result, the aggregate of clients was divided into 4 classes - 1 - it is necessary to credit, 2 - you can lend, 3 - you can lend, with increased risk of non-return, 4 - you can not lend. And for the separation of grade 3 from 4 used high expected profit. Based on this classification for the test and training dataset, graphs of the distribution functions were constructed. The classification results are displayed in a text file called answer.txt."
   ]
  }
 ],
 "metadata": {
  "kernelspec": {
   "display_name": "Python 3",
   "language": "python",
   "name": "python3"
  },
  "language_info": {
   "codemirror_mode": {
    "name": "ipython",
    "version": 3
   },
   "file_extension": ".py",
   "mimetype": "text/x-python",
   "name": "python",
   "nbconvert_exporter": "python",
   "pygments_lexer": "ipython3",
   "version": "3.6.1"
  }
 },
 "nbformat": 4,
 "nbformat_minor": 2
}
